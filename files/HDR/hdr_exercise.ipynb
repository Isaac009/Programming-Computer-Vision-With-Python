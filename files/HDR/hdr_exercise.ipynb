{
 "cells": [
  {
   "cell_type": "code",
   "execution_count": 10,
   "metadata": {},
   "outputs": [],
   "source": [
    "import cv2\n",
    "import numpy as np\n",
    "\n",
    "\n",
    "def readImagesAndTimes():\n",
    "  # List of exposure times\n",
    "  times = np.array([ 1/80.0, 1/60.0, 1/40.0, 1/15.0 ], dtype=np.float32)\n",
    "   \n",
    "  # List of image filenames\n",
    "#   filenames = [\"img_0.033.jpg\", \"img_0.25.jpg\", \"img_2.5.jpg\", \"img_15.jpg\"]\n",
    "  filenames = [\"s1.png\", \"s2.png\", \"s3.png\", \"s4.png\"]\n",
    "  images = []\n",
    "  for filename in filenames:\n",
    "    im = cv2.imread(filename)\n",
    "    images.append(im)\n",
    "   \n",
    "  return images, times"
   ]
  },
  {
   "cell_type": "code",
   "execution_count": 11,
   "metadata": {},
   "outputs": [
    {
     "name": "stdout",
     "output_type": "stream",
     "text": [
      "Reading images ... \n",
      "Aligning images ... \n",
      "Calculating Camera Response Function (CRF) ... \n",
      "Merging images into one HDR image ... \n",
      "saved hdrDebevec.hdr \n",
      "Tonemaping using Drago's method ... \n",
      "saved ldr-Drago.jpg\n",
      "Tonemaping using Durand's method ... \n",
      "saved ldr-Durand.jpg\n",
      "Tonemaping using Reinhard's method ... \n",
      "saved ldr-Reinhard.jpg\n",
      "Tonemaping using Mantiuk's method ... \n",
      "saved ldr-Mantiuk.jpg\n"
     ]
    }
   ],
   "source": [
    "if __name__ == '__main__':\n",
    "  # Read images and exposure times\n",
    "  print(\"Reading images ... \")\n",
    "\n",
    "  images, times = readImagesAndTimes()\n",
    "  \n",
    "  \n",
    "  # Align input images\n",
    "  print(\"Aligning images ... \")\n",
    "  alignMTB = cv2.createAlignMTB()\n",
    "  alignMTB.process(images, images)\n",
    "  \n",
    "  # Obtain Camera Response Function (CRF)\n",
    "  print(\"Calculating Camera Response Function (CRF) ... \")\n",
    "  calibrateDebevec = cv2.createCalibrateDebevec()\n",
    "  responseDebevec = calibrateDebevec.process(images, times)\n",
    "  \n",
    "  # Merge images into an HDR linear image\n",
    "  print(\"Merging images into one HDR image ... \")\n",
    "  mergeDebevec = cv2.createMergeDebevec()\n",
    "  hdrDebevec = mergeDebevec.process(images, times, responseDebevec)\n",
    "  # Save HDR image.\n",
    "  cv2.imwrite(\"hdrDebevec.hdr\", hdrDebevec)\n",
    "  print(\"saved hdrDebevec.hdr \")\n",
    "  \n",
    "  # Tonemap using Drago's method to obtain 24-bit color image\n",
    "  print(\"Tonemaping using Drago's method ... \")\n",
    "  tonemapDrago = cv2.createTonemapDrago(1.0, 0.7)\n",
    "  ldrDrago = tonemapDrago.process(hdrDebevec)\n",
    "  ldrDrago = 3 * ldrDrago\n",
    "  cv2.imwrite(\"ldr-Drago.jpg\", ldrDrago * 255)\n",
    "  print(\"saved ldr-Drago.jpg\")\n",
    "  \n",
    "  # Tonemap using Durand's method obtain 24-bit color image\n",
    "  print(\"Tonemaping using Durand's method ... \")\n",
    "  tonemapDurand = cv2.createTonemapDurand(1.5,4,1.0,1,1)\n",
    "  ldrDurand = tonemapDurand.process(hdrDebevec)\n",
    "  ldrDurand = 3 * ldrDurand\n",
    "  cv2.imwrite(\"ldr-Durand.jpg\", ldrDurand * 255)\n",
    "  print(\"saved ldr-Durand.jpg\")\n",
    "  \n",
    "  # Tonemap using Reinhard's method to obtain 24-bit color image\n",
    "  print(\"Tonemaping using Reinhard's method ... \")\n",
    "  tonemapReinhard = cv2.createTonemapReinhard(1.5, 0,0,0)\n",
    "  ldrReinhard = tonemapReinhard.process(hdrDebevec)\n",
    "  cv2.imwrite(\"ldr-Reinhard.jpg\", ldrReinhard * 255)\n",
    "  print(\"saved ldr-Reinhard.jpg\")\n",
    "  \n",
    "  # Tonemap using Mantiuk's method to obtain 24-bit color image\n",
    "  print(\"Tonemaping using Mantiuk's method ... \")\n",
    "  tonemapMantiuk = cv2.createTonemapMantiuk(2.2,0.85, 1.2)\n",
    "  ldrMantiuk = tonemapMantiuk.process(hdrDebevec)\n",
    "  ldrMantiuk = 3 * ldrMantiuk\n",
    "  cv2.imwrite(\"ldr-Mantiuk.jpg\", ldrMantiuk * 255)\n",
    "  print(\"saved ldr-Mantiuk.jpg\")"
   ]
  },
  {
   "cell_type": "code",
   "execution_count": null,
   "metadata": {},
   "outputs": [],
   "source": []
  }
 ],
 "metadata": {
  "kernelspec": {
   "display_name": "Python 3",
   "language": "python",
   "name": "python3"
  },
  "language_info": {
   "codemirror_mode": {
    "name": "ipython",
    "version": 3
   },
   "file_extension": ".py",
   "mimetype": "text/x-python",
   "name": "python",
   "nbconvert_exporter": "python",
   "pygments_lexer": "ipython3",
   "version": "3.6.7"
  }
 },
 "nbformat": 4,
 "nbformat_minor": 2
}
